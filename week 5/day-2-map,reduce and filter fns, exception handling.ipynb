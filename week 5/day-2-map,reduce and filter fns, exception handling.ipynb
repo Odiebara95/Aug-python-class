{
 "cells": [
  {
   "cell_type": "markdown",
   "metadata": {},
   "source": [
    "## assignments on quadratic equation"
   ]
  },
  {
   "cell_type": "code",
   "execution_count": 1,
   "metadata": {},
   "outputs": [],
   "source": [
    "def quadratic(a,b,c):\n",
    "    x1=(-(b)+(((b*b)-(4*a*c))**0.5))/(2*a)\n",
    "    x2=(-(b)-(((b*b)-(4*a*c))**0.5))/(2*a)\n",
    "    return x1,x2"
   ]
  },
  {
   "cell_type": "code",
   "execution_count": 3,
   "metadata": {},
   "outputs": [
    {
     "data": {
      "text/plain": [
       "(1.0, -3.0)"
      ]
     },
     "execution_count": 3,
     "metadata": {},
     "output_type": "execute_result"
    }
   ],
   "source": [
    "quadratic(1,2,-3)"
   ]
  },
  {
   "cell_type": "markdown",
   "metadata": {},
   "source": [
    "## map fns"
   ]
  },
  {
   "cell_type": "code",
   "execution_count": 4,
   "metadata": {},
   "outputs": [],
   "source": [
    "## map() loops over the items of an input iterable(s) and returns an iterator that results from\n",
    "# applying a transformation fns to every item in the original input iterable\n",
    "# map(fns, iterable[iterable1,iterable2,iterable3.....]) "
   ]
  },
  {
   "cell_type": "code",
   "execution_count": 5,
   "metadata": {},
   "outputs": [],
   "source": [
    "## we use the map inplace of a loop in some instance"
   ]
  },
  {
   "cell_type": "code",
   "execution_count": 10,
   "metadata": {},
   "outputs": [
    {
     "name": "stdout",
     "output_type": "stream",
     "text": [
      "[25, 16, 9, 4, 1]\n"
     ]
    }
   ],
   "source": [
    "numbers=[5,4,3,2,1]\n",
    "squared=[]\n",
    "for n in numbers:\n",
    "    squared.append(n**2)\n",
    "print(squared)"
   ]
  },
  {
   "cell_type": "code",
   "execution_count": 16,
   "metadata": {},
   "outputs": [
    {
     "name": "stdout",
     "output_type": "stream",
     "text": [
      "[25, 16, 9, 4, 1]\n"
     ]
    }
   ],
   "source": [
    "## using map function to do the above\n",
    "def square(number):\n",
    "    return number**2\n",
    "numbers=[5,4,3,2,1]\n",
    "squared=map(square,numbers)\n",
    "print(list(squared))"
   ]
  },
  {
   "cell_type": "code",
   "execution_count": 17,
   "metadata": {},
   "outputs": [
    {
     "name": "stdout",
     "output_type": "stream",
     "text": [
      "[7, 4, 6, 5, 2, 5, 4, 5, 3]\n"
     ]
    }
   ],
   "source": [
    "words=[\"welcome\",\"book\",\"socket\",\"board\",\"go\",\"chair\",\"come\",\"table\",\"pen\"]\n",
    "length=[]\n",
    "for i in words:\n",
    "    length.append(len(i))\n",
    "print(length)"
   ]
  },
  {
   "cell_type": "code",
   "execution_count": 18,
   "metadata": {},
   "outputs": [
    {
     "name": "stdout",
     "output_type": "stream",
     "text": [
      "[7, 4, 6, 5, 2, 5, 4, 5, 3]\n"
     ]
    }
   ],
   "source": [
    "words=[\"welcome\",\"book\",\"socket\",\"board\",\"go\",\"chair\",\"come\",\"table\",\"pen\"]\n",
    "print(list(map(len,words)))"
   ]
  },
  {
   "cell_type": "code",
   "execution_count": 19,
   "metadata": {},
   "outputs": [
    {
     "name": "stdout",
     "output_type": "stream",
     "text": [
      "[3, 4, 5, 1, 100, 7]\n"
     ]
    }
   ],
   "source": [
    "num=[-3,4,-5,-1,-100,7]\n",
    "print(list(map(abs,num)))"
   ]
  },
  {
   "cell_type": "code",
   "execution_count": 22,
   "metadata": {},
   "outputs": [
    {
     "name": "stdout",
     "output_type": "stream",
     "text": [
      "[1, 8, 81, 1024]\n"
     ]
    }
   ],
   "source": [
    "first=[1,2,3,4]\n",
    "second=[2,3,4,5]\n",
    "print(list(map(pow,first,second)))"
   ]
  },
  {
   "cell_type": "code",
   "execution_count": 29,
   "metadata": {},
   "outputs": [
    {
     "name": "stdout",
     "output_type": "stream",
     "text": [
      "1\n",
      "8\n",
      "81\n",
      "1024\n"
     ]
    }
   ],
   "source": [
    "# using nested loop to solve the above\n",
    "first=[1,2,3,4]\n",
    "second=[2,3,4,5]\n",
    "for x in first:\n",
    "    for y in second:\n",
    "        if first.index(x)==second.index(y):\n",
    "            print(x**y)"
   ]
  },
  {
   "cell_type": "markdown",
   "metadata": {},
   "source": [
    "## Filter fns"
   ]
  },
  {
   "cell_type": "code",
   "execution_count": 46,
   "metadata": {},
   "outputs": [
    {
     "name": "stdout",
     "output_type": "stream",
     "text": [
      "[18, 24, 32]\n"
     ]
    }
   ],
   "source": [
    "## filter fns is used to exclude items in an iterable object\n",
    "## filter(fns,iterable)\n",
    "ages=[5,12,17,18,24,32]\n",
    "# using loops to solve this\n",
    "adult_age=[]\n",
    "for age in ages:\n",
    "    if age>=18:\n",
    "        adult_age.append(age)\n",
    "print(adult_age)"
   ]
  },
  {
   "cell_type": "code",
   "execution_count": 50,
   "metadata": {},
   "outputs": [
    {
     "name": "stdout",
     "output_type": "stream",
     "text": [
      "[18, 24, 32]\n"
     ]
    }
   ],
   "source": [
    "def jessica(x):\n",
    "    if x<18:\n",
    "        return False\n",
    "    else:\n",
    "        return True\n",
    "adults= filter(jessica,ages)\n",
    "print(list(adults))"
   ]
  },
  {
   "cell_type": "markdown",
   "metadata": {},
   "source": [
    "## reduce function"
   ]
  },
  {
   "cell_type": "code",
   "execution_count": 51,
   "metadata": {},
   "outputs": [],
   "source": [
    "# reduce applies a fns of two argument cummulatively to the elements of an iterable, optionally\n",
    "# starting with an initial argument"
   ]
  },
  {
   "cell_type": "code",
   "execution_count": 52,
   "metadata": {},
   "outputs": [],
   "source": [
    "from functools import reduce"
   ]
  },
  {
   "cell_type": "code",
   "execution_count": 60,
   "metadata": {},
   "outputs": [
    {
     "name": "stdout",
     "output_type": "stream",
     "text": [
      "68\n"
     ]
    }
   ],
   "source": [
    "numbers=[3,4,6,9,34,12]\n",
    "def custom_sum(first,second):\n",
    "    return first+second\n",
    "\n",
    "result=reduce(custom_sum,numbers)\n",
    "print(result) #reduce function example"
   ]
  },
  {
   "cell_type": "code",
   "execution_count": 61,
   "metadata": {},
   "outputs": [
    {
     "name": "stdout",
     "output_type": "stream",
     "text": [
      "78\n"
     ]
    }
   ],
   "source": [
    "numbers=[3,4,6,9,34,12]\n",
    "def custom_sum(first,second):\n",
    "    return first+second\n",
    "\n",
    "result=reduce(custom_sum,numbers,10)\n",
    "print(result) #reduce function example with a starting point of 10"
   ]
  },
  {
   "cell_type": "code",
   "execution_count": 62,
   "metadata": {},
   "outputs": [
    {
     "name": "stdout",
     "output_type": "stream",
     "text": [
      "-62\n"
     ]
    }
   ],
   "source": [
    "numbers=[3,4,6,9,34,12]\n",
    "def custom_sum(first,second):\n",
    "    return first-second # note that i am using cummulative subtraction now\n",
    "\n",
    "result=reduce(custom_sum,numbers)\n",
    "print(result) #reduce function example"
   ]
  },
  {
   "cell_type": "code",
   "execution_count": 63,
   "metadata": {},
   "outputs": [
    {
     "name": "stdout",
     "output_type": "stream",
     "text": [
      "-58\n"
     ]
    }
   ],
   "source": [
    "numbers=[3,4,6,9,34,12]\n",
    "def custom_sum(first,second):\n",
    "    return first-second # note that i am using cummulative subtraction now\n",
    "\n",
    "result=reduce(custom_sum,numbers,10)\n",
    "print(result) #reduce function example"
   ]
  },
  {
   "cell_type": "code",
   "execution_count": 67,
   "metadata": {},
   "outputs": [
    {
     "data": {
      "text/plain": [
       "-58"
      ]
     },
     "execution_count": 67,
     "metadata": {},
     "output_type": "execute_result"
    }
   ],
   "source": [
    "10-3-4-6-9-34-12"
   ]
  },
  {
   "cell_type": "code",
   "execution_count": 65,
   "metadata": {},
   "outputs": [
    {
     "name": "stdout",
     "output_type": "stream",
     "text": [
      "-78\n"
     ]
    }
   ],
   "source": [
    "numbers=[3,4,6,9,34,12]\n",
    "def custom_sum(first,second):\n",
    "    return first-second # note that i am using cummulative subtraction now\n",
    "\n",
    "result=reduce(custom_sum,numbers,-10)\n",
    "print(result) #reduce function example"
   ]
  },
  {
   "cell_type": "code",
   "execution_count": 68,
   "metadata": {},
   "outputs": [
    {
     "data": {
      "text/plain": [
       "-78"
      ]
     },
     "execution_count": 68,
     "metadata": {},
     "output_type": "execute_result"
    }
   ],
   "source": [
    "-10-3-4-6-9-34-12"
   ]
  },
  {
   "cell_type": "code",
   "execution_count": null,
   "metadata": {},
   "outputs": [],
   "source": []
  }
 ],
 "metadata": {
  "kernelspec": {
   "display_name": "Python 3",
   "language": "python",
   "name": "python3"
  },
  "language_info": {
   "codemirror_mode": {
    "name": "ipython",
    "version": 3
   },
   "file_extension": ".py",
   "mimetype": "text/x-python",
   "name": "python",
   "nbconvert_exporter": "python",
   "pygments_lexer": "ipython3",
   "version": "3.7.3"
  }
 },
 "nbformat": 4,
 "nbformat_minor": 2
}
