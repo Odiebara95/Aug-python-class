{
 "cells": [
  {
   "cell_type": "markdown",
   "metadata": {},
   "source": [
    "## Review of a question/problem"
   ]
  },
  {
   "cell_type": "markdown",
   "metadata": {},
   "source": [
    "## Exercise 35: Dog Years\n",
    "### It is commonly said that one human year is equivalent to 7 dog years. However this simple conversion fails to recognize that dogs reach adulthood in approximately two years. As a result, some people believe that it is better to count each of the first two human years as 10.5 dog years, and then count each additional human year as 4 dog years.\n",
    "### Write a program that implements the conversion from human years to dog years described in the previous paragraph. Ensure that your program works correctly for conversions of less than two human years and for conversions of two or more human years. Your program should display an appropriate error message if the user enters a negative number."
   ]
  },
  {
   "cell_type": "code",
   "execution_count": 7,
   "metadata": {},
   "outputs": [
    {
     "name": "stdout",
     "output_type": "stream",
     "text": [
      "Enter the number of years the dog has lived: 4\n",
      "dog years is:  29\n"
     ]
    }
   ],
   "source": [
    "human_years=int(input(\"Enter the number of years the dog has lived: \"))\n",
    "if human_years<=0:\n",
    "    print(\"please enter a valid number of year(s)\")\n",
    "elif human_years <= 2:\n",
    "    print(\"dog years is: \", human_years * 10.5)\n",
    "else:\n",
    "    print(\"dog years is: \", (human_years-2)*4 + 21)"
   ]
  },
  {
   "cell_type": "code",
   "execution_count": 8,
   "metadata": {},
   "outputs": [
    {
     "name": "stdout",
     "output_type": "stream",
     "text": [
      "Enter the number of years the dog has lived: 5\n",
      "dog years is:  33\n"
     ]
    }
   ],
   "source": [
    "human_years=int(input(\"Enter the number of years the dog has lived: \"))\n",
    "if human_years<=0:\n",
    "    print(\"please enter a valid number of year(s)\")\n",
    "elif human_years <= 2:\n",
    "    print(\"dog years is: \", human_years * 10.5)\n",
    "else:\n",
    "    extra_years=human_years-2\n",
    "    print(\"dog years is: \", (extra_years*4) + 21)"
   ]
  },
  {
   "cell_type": "code",
   "execution_count": 10,
   "metadata": {},
   "outputs": [
    {
     "name": "stdout",
     "output_type": "stream",
     "text": [
      "Enter the number of years the dog has lived: 5\n",
      "dog years is: 33\n"
     ]
    }
   ],
   "source": [
    "# using the f command in your print function\n",
    "human_years=int(input(\"Enter the number of years the dog has lived: \"))\n",
    "if human_years<=0:\n",
    "    print(f\"please enter a valid number of year(s)\")\n",
    "elif human_years <= 2:\n",
    "    print(f\"dog years is: {human_years * 10.5}\")\n",
    "else:\n",
    "    extra_years=human_years-2\n",
    "    print(f\"dog years is: {(extra_years*4) + 21}\")"
   ]
  },
  {
   "cell_type": "code",
   "execution_count": 12,
   "metadata": {},
   "outputs": [
    {
     "name": "stdout",
     "output_type": "stream",
     "text": [
      " i am coming home in 5kg for the next 5 months\n"
     ]
    }
   ],
   "source": [
    "print(f\" i am coming home in {human_years} for the next 5 months\")"
   ]
  },
  {
   "cell_type": "markdown",
   "metadata": {},
   "source": [
    "## List"
   ]
  },
  {
   "cell_type": "code",
   "execution_count": 13,
   "metadata": {},
   "outputs": [],
   "source": [
    "cars=[\"Audi\",\"Honda\",\"Nissan\",\"Toyota\",\"Benz\",\"Volvo\",\"Tesla\",\"Peugout\"]"
   ]
  },
  {
   "cell_type": "code",
   "execution_count": 14,
   "metadata": {},
   "outputs": [
    {
     "data": {
      "text/plain": [
       "list"
      ]
     },
     "execution_count": 14,
     "metadata": {},
     "output_type": "execute_result"
    }
   ],
   "source": [
    "type(cars)"
   ]
  },
  {
   "cell_type": "code",
   "execution_count": 15,
   "metadata": {},
   "outputs": [
    {
     "name": "stdout",
     "output_type": "stream",
     "text": [
      "['Audi', 'Honda', 'Nissan', 'Toyota', 'Benz', 'Volvo', 'Tesla', 'Peugout']\n"
     ]
    }
   ],
   "source": [
    "print(cars)"
   ]
  },
  {
   "cell_type": "code",
   "execution_count": 16,
   "metadata": {},
   "outputs": [
    {
     "name": "stdout",
     "output_type": "stream",
     "text": [
      "Audi\n",
      "Peugout\n"
     ]
    }
   ],
   "source": [
    "print(cars[0])\n",
    "print(cars[-1])"
   ]
  },
  {
   "cell_type": "code",
   "execution_count": 17,
   "metadata": {},
   "outputs": [],
   "source": [
    "name=\"Paul Odiebara\""
   ]
  },
  {
   "cell_type": "code",
   "execution_count": 18,
   "metadata": {},
   "outputs": [
    {
     "data": {
      "text/plain": [
       "13"
      ]
     },
     "execution_count": 18,
     "metadata": {},
     "output_type": "execute_result"
    }
   ],
   "source": [
    "len(name)"
   ]
  },
  {
   "cell_type": "code",
   "execution_count": 19,
   "metadata": {},
   "outputs": [
    {
     "data": {
      "text/plain": [
       "8"
      ]
     },
     "execution_count": 19,
     "metadata": {},
     "output_type": "execute_result"
    }
   ],
   "source": [
    "len(cars)"
   ]
  },
  {
   "cell_type": "code",
   "execution_count": null,
   "metadata": {},
   "outputs": [],
   "source": []
  }
 ],
 "metadata": {
  "kernelspec": {
   "display_name": "Python 3",
   "language": "python",
   "name": "python3"
  },
  "language_info": {
   "codemirror_mode": {
    "name": "ipython",
    "version": 3
   },
   "file_extension": ".py",
   "mimetype": "text/x-python",
   "name": "python",
   "nbconvert_exporter": "python",
   "pygments_lexer": "ipython3",
   "version": "3.7.3"
  }
 },
 "nbformat": 4,
 "nbformat_minor": 2
}
