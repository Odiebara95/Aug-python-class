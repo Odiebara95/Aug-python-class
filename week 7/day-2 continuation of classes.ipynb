{
 "cells": [
  {
   "cell_type": "markdown",
   "metadata": {},
   "source": [
    "## recap"
   ]
  },
  {
   "cell_type": "markdown",
   "metadata": {},
   "source": [
    "## program to calculate for a prime number"
   ]
  },
  {
   "cell_type": "code",
   "execution_count": 39,
   "metadata": {},
   "outputs": [
    {
     "name": "stdout",
     "output_type": "stream",
     "text": [
      "Enter your number: 110000000090000007\n",
      "110000000090000007 is not a prime number\n"
     ]
    }
   ],
   "source": [
    "number=int(input(\"Enter your number: \"))\n",
    "const=False\n",
    "if number > 1:\n",
    "    for i in range(2,number):\n",
    "        if (number % i)==0:\n",
    "            const=True\n",
    "            break\n",
    "if const:\n",
    "    print(f\"{number} is not a prime number\")\n",
    "else:\n",
    "    print(f\"{number} is a prime number\")"
   ]
  },
  {
   "cell_type": "code",
   "execution_count": 41,
   "metadata": {},
   "outputs": [],
   "source": [
    "class Name:\n",
    "    def __init__(self,fname,lname):\n",
    "        self.firstname=fname\n",
    "        self.lastname=lname\n",
    "        \n",
    "    def printname(self):\n",
    "        print(self.firstname,self.lastname)"
   ]
  },
  {
   "cell_type": "code",
   "execution_count": 42,
   "metadata": {},
   "outputs": [],
   "source": [
    "myname=Name(\"Paul\",\"Odiebara\")"
   ]
  },
  {
   "cell_type": "code",
   "execution_count": 43,
   "metadata": {},
   "outputs": [
    {
     "name": "stdout",
     "output_type": "stream",
     "text": [
      "Paul Odiebara\n"
     ]
    }
   ],
   "source": [
    "myname.printname()"
   ]
  },
  {
   "cell_type": "code",
   "execution_count": 46,
   "metadata": {},
   "outputs": [],
   "source": [
    "ve=Student(\"Jessica\", \"Nmecha\")"
   ]
  },
  {
   "cell_type": "code",
   "execution_count": 47,
   "metadata": {},
   "outputs": [
    {
     "name": "stdout",
     "output_type": "stream",
     "text": [
      "Jessica Nmecha\n"
     ]
    }
   ],
   "source": [
    "ve.printname()"
   ]
  },
  {
   "cell_type": "code",
   "execution_count": 48,
   "metadata": {},
   "outputs": [],
   "source": [
    "class Student(Name):\n",
    "    def __init__(self,fname,lname):\n",
    "        Name.__init__(self,fname,lname)\n",
    "        \n",
    "    def only_last(self):\n",
    "        print(self.lastname)"
   ]
  },
  {
   "cell_type": "code",
   "execution_count": 49,
   "metadata": {},
   "outputs": [],
   "source": [
    "white=Student(\"Bright\",\"Umah\")"
   ]
  },
  {
   "cell_type": "code",
   "execution_count": 52,
   "metadata": {},
   "outputs": [
    {
     "name": "stdout",
     "output_type": "stream",
     "text": [
      "Bright Umah\n",
      "Umah\n"
     ]
    }
   ],
   "source": [
    "white.printname()\n",
    "white.only_last()"
   ]
  },
  {
   "cell_type": "code",
   "execution_count": 51,
   "metadata": {},
   "outputs": [
    {
     "name": "stdout",
     "output_type": "stream",
     "text": [
      "Umah\n"
     ]
    }
   ],
   "source": [
    "white.only_last()"
   ]
  },
  {
   "cell_type": "code",
   "execution_count": 56,
   "metadata": {},
   "outputs": [],
   "source": [
    "class Student(Name):\n",
    "    def __init__(self,fname,lname,mname):\n",
    "#         super().__init__(fname,lname)\n",
    "        self.middlename=mname\n",
    "         \n",
    "    def only_last(self):\n",
    "        print(self.lastname)\n",
    "        \n",
    "    def all_names(self):\n",
    "        print(self.firstname,self.middlename,self.lastname)"
   ]
  },
  {
   "cell_type": "code",
   "execution_count": 57,
   "metadata": {},
   "outputs": [],
   "source": [
    "eagle=Student(\"Henry\",\"Nmecha\",\"Buhari\")"
   ]
  },
  {
   "cell_type": "code",
   "execution_count": 58,
   "metadata": {},
   "outputs": [
    {
     "name": "stdout",
     "output_type": "stream",
     "text": [
      "Henry Nmecha\n",
      "Nmecha\n",
      "Henry Buhari Nmecha\n"
     ]
    }
   ],
   "source": [
    "eagle.printname()\n",
    "eagle.only_last()\n",
    "eagle.all_names()"
   ]
  },
  {
   "cell_type": "code",
   "execution_count": 89,
   "metadata": {},
   "outputs": [
    {
     "name": "stdout",
     "output_type": "stream",
     "text": [
      "Enter a number: 110000907\n",
      "1\n",
      "1\n",
      "0\n",
      "0\n",
      "0\n",
      "0\n",
      "9\n",
      "0\n",
      "7\n",
      "[1, 1, 0, 0, 0, 0, 9, 0, 7]\n",
      "18\n",
      "110000907 is not divisible by 3\n"
     ]
    }
   ],
   "source": [
    "value=int(input(\"Enter a number: \"))\n",
    "number_list=[]\n",
    "value=str(value)\n",
    "#while True:\n",
    "for len(value)>1:\n",
    "    for x in value:\n",
    "        number_list.append(int(x))\n",
    "        print(x)\n",
    "    print(number_list)\n",
    "    added=(sum(number_list))\n",
    "    print(added)\n",
    "    if added==3 or added==6 or added==9:\n",
    "        print(f\"{value} is a number divisible by 3\")\n",
    "    else:\n",
    "        print(f\"{value} is not divisible by 3\")\n",
    "    "
   ]
  },
  {
   "cell_type": "code",
   "execution_count": 70,
   "metadata": {},
   "outputs": [
    {
     "name": "stdout",
     "output_type": "stream",
     "text": [
      "1\n",
      "8\n",
      "[1, 8]\n",
      "9\n",
      "18 is a number divisible by 3\n"
     ]
    }
   ],
   "source": [
    "lists=[]\n",
    "v=\"18\"\n",
    "for i in v:\n",
    "    lists.append(int(i))\n",
    "    print(i)\n",
    "print(lists)\n",
    "print(sum(lists))\n",
    "if sum(lists)==3 or sum(lists)==6 or sum(lists)==9 :\n",
    "    print(f\"{v} is a number divisible by 3\")"
   ]
  },
  {
   "cell_type": "code",
   "execution_count": 63,
   "metadata": {},
   "outputs": [
    {
     "name": "stdout",
     "output_type": "stream",
     "text": [
      "<class 'str'>\n"
     ]
    }
   ],
   "source": [
    "x=\"34\"\n",
    "print(type(x))"
   ]
  },
  {
   "cell_type": "code",
   "execution_count": 64,
   "metadata": {},
   "outputs": [
    {
     "name": "stdout",
     "output_type": "stream",
     "text": [
      "<class 'int'>\n"
     ]
    }
   ],
   "source": [
    "y=int(x)\n",
    "print(type(y))"
   ]
  },
  {
   "cell_type": "code",
   "execution_count": 65,
   "metadata": {},
   "outputs": [
    {
     "data": {
      "text/plain": [
       "34"
      ]
     },
     "execution_count": 65,
     "metadata": {},
     "output_type": "execute_result"
    }
   ],
   "source": [
    "y"
   ]
  },
  {
   "cell_type": "code",
   "execution_count": null,
   "metadata": {},
   "outputs": [],
   "source": []
  }
 ],
 "metadata": {
  "kernelspec": {
   "display_name": "Python 3",
   "language": "python",
   "name": "python3"
  },
  "language_info": {
   "codemirror_mode": {
    "name": "ipython",
    "version": 3
   },
   "file_extension": ".py",
   "mimetype": "text/x-python",
   "name": "python",
   "nbconvert_exporter": "python",
   "pygments_lexer": "ipython3",
   "version": "3.7.3"
  }
 },
 "nbformat": 4,
 "nbformat_minor": 2
}
