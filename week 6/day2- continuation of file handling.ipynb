{
 "cells": [
  {
   "cell_type": "markdown",
   "metadata": {},
   "source": [
    "## File Handling"
   ]
  },
  {
   "cell_type": "code",
   "execution_count": 2,
   "metadata": {},
   "outputs": [
    {
     "data": {
      "text/plain": [
       "'this is a python class'"
      ]
     },
     "execution_count": 2,
     "metadata": {},
     "output_type": "execute_result"
    }
   ],
   "source": [
    "g=open(\"../week 5/class.txt\")\n",
    "g.read()"
   ]
  },
  {
   "cell_type": "code",
   "execution_count": 3,
   "metadata": {},
   "outputs": [
    {
     "data": {
      "text/plain": [
       "'this is a python class'"
      ]
     },
     "execution_count": 3,
     "metadata": {},
     "output_type": "execute_result"
    }
   ],
   "source": [
    "g=open(\"../week 5/class.txt\")\n",
    "g.read()"
   ]
  },
  {
   "cell_type": "code",
   "execution_count": 4,
   "metadata": {},
   "outputs": [
    {
     "data": {
      "text/plain": [
       "'this '"
      ]
     },
     "execution_count": 4,
     "metadata": {},
     "output_type": "execute_result"
    }
   ],
   "source": [
    "g=open(\"../week 5/class.txt\")\n",
    "g.read(5)"
   ]
  },
  {
   "cell_type": "code",
   "execution_count": 7,
   "metadata": {},
   "outputs": [
    {
     "name": "stdout",
     "output_type": "stream",
     "text": [
      "this is a python class\n",
      "\n"
     ]
    }
   ],
   "source": [
    "g=open(\"../week 5/class.txt\")\n",
    "print(g.readline())"
   ]
  },
  {
   "cell_type": "code",
   "execution_count": 9,
   "metadata": {},
   "outputs": [
    {
     "name": "stdout",
     "output_type": "stream",
     "text": [
      "this is a python class\n",
      "I am here\n",
      "come home\n",
      "we are in class\n"
     ]
    }
   ],
   "source": [
    "g=open(\"../week 5/class.txt\")\n",
    "print(g.read())"
   ]
  },
  {
   "cell_type": "code",
   "execution_count": 10,
   "metadata": {},
   "outputs": [
    {
     "name": "stdout",
     "output_type": "stream",
     "text": [
      "this is a python class\n",
      "\n",
      "I am here\n",
      "\n",
      "come home\n",
      "\n"
     ]
    }
   ],
   "source": [
    "g=open(\"../week 5/class.txt\")\n",
    "print(g.readline())\n",
    "print(g.readline())\n",
    "print(g.readline())"
   ]
  },
  {
   "cell_type": "code",
   "execution_count": 27,
   "metadata": {},
   "outputs": [
    {
     "name": "stdout",
     "output_type": "stream",
     "text": [
      "['this is a python class\\n', 'I am here\\n', 'come home\\n', 'we are in class']\n"
     ]
    }
   ],
   "source": [
    "g=open(\"../week 5/class.txt\")\n",
    "print(g.readlines(-1))"
   ]
  },
  {
   "cell_type": "code",
   "execution_count": 28,
   "metadata": {},
   "outputs": [
    {
     "name": "stdout",
     "output_type": "stream",
     "text": [
      "this is a python class\n",
      "\n",
      "I am here\n",
      "\n",
      "come home\n",
      "\n",
      "we are in class\n"
     ]
    }
   ],
   "source": [
    "g=open(\"../week 5/class.txt\")\n",
    "for x in g:\n",
    "    print(x)"
   ]
  },
  {
   "cell_type": "code",
   "execution_count": 36,
   "metadata": {},
   "outputs": [
    {
     "name": "stdout",
     "output_type": "stream",
     "text": [
      "['this is a python class\\n', 'I am here\\n', 'come home\\n', 'we are in class']\n"
     ]
    }
   ],
   "source": [
    "g=open(\"../week 5/class.txt\")\n",
    "print(g.readlines(-1))\n",
    "g.close() # its advisable to always close you files when done with your program, for security"
   ]
  },
  {
   "cell_type": "code",
   "execution_count": 37,
   "metadata": {},
   "outputs": [],
   "source": [
    "# Writing to an existing file\n",
    "# \"a\" append- will append to the end of the file\n",
    "# \"w\" write- will overwrite any existing content"
   ]
  },
  {
   "cell_type": "code",
   "execution_count": 49,
   "metadata": {},
   "outputs": [],
   "source": [
    "python=open(\"../../../../text/Wike.txt\",\"a\")\n",
    "python.write(\"\\nBright said Amaechi is a better Politician compared to wike\\nI said its a lie\")\n",
    "python.close()"
   ]
  },
  {
   "cell_type": "code",
   "execution_count": 50,
   "metadata": {},
   "outputs": [
    {
     "name": "stdout",
     "output_type": "stream",
     "text": [
      "Bright said Amaechi is a better Politician compared to wike\n",
      " I said its a lieBright said Amaechi is a better Politician compared to wike\n",
      " I said its a lie/nBright said Amaechi is a better Politician compared to wike\n",
      "I said its a lie\n",
      "Bright said Amaechi is a better Politician compared to wike\n",
      "I said its a lie\n",
      "Bright said Amaechi is a better Politician compared to wike\n",
      "I said its a lie\n"
     ]
    }
   ],
   "source": [
    "python=open(\"../../../../text/Wike.txt\")\n",
    "print(python.read())"
   ]
  },
  {
   "cell_type": "code",
   "execution_count": 53,
   "metadata": {},
   "outputs": [],
   "source": [
    "python=open(\"../../../../text/Wike.txt\",\"w\")\n",
    "python.write(\"\\nBright said Amaechi is a better Politician compared to wike\\nI said its a lie\")\n",
    "python.close()"
   ]
  },
  {
   "cell_type": "code",
   "execution_count": 54,
   "metadata": {},
   "outputs": [
    {
     "name": "stdout",
     "output_type": "stream",
     "text": [
      "\n",
      "Bright said Amaechi is a better Politician compared to wike\n",
      "I said its a lie\n"
     ]
    }
   ],
   "source": [
    "python=open(\"../../../../text/Wike.txt\")\n",
    "print(python.read())"
   ]
  },
  {
   "cell_type": "code",
   "execution_count": 55,
   "metadata": {},
   "outputs": [],
   "source": [
    "python=open(\"../../../../text/Wike.txt\",\"w\")\n",
    "python.write(\"20 Wike flyover is not needed in the state\\nI said its a lie\")\n",
    "python.close()"
   ]
  },
  {
   "cell_type": "code",
   "execution_count": 56,
   "metadata": {},
   "outputs": [
    {
     "name": "stdout",
     "output_type": "stream",
     "text": [
      "20 Wike flyover is not needed in the state\n",
      "I said its a lie\n"
     ]
    }
   ],
   "source": [
    "python=open(\"../../../../text/Wike.txt\")\n",
    "print(python.read())"
   ]
  },
  {
   "cell_type": "code",
   "execution_count": 57,
   "metadata": {},
   "outputs": [],
   "source": [
    "## creating a new file\n",
    "# x = Create- will create a file, returns error if the file exists\n",
    "# a = Append - will create a file if the specified file does not exist\n",
    "# w = write- will create a file if the specified file does not exist"
   ]
  },
  {
   "cell_type": "code",
   "execution_count": 58,
   "metadata": {},
   "outputs": [
    {
     "ename": "FileExistsError",
     "evalue": "[Errno 17] File exists: '../../../../text/Wike.txt'",
     "output_type": "error",
     "traceback": [
      "\u001b[1;31m---------------------------------------------------------------------------\u001b[0m",
      "\u001b[1;31mFileExistsError\u001b[0m                           Traceback (most recent call last)",
      "\u001b[1;32m<ipython-input-58-bf93711bab1d>\u001b[0m in \u001b[0;36m<module>\u001b[1;34m\u001b[0m\n\u001b[1;32m----> 1\u001b[1;33m \u001b[0mpython\u001b[0m\u001b[1;33m=\u001b[0m\u001b[0mopen\u001b[0m\u001b[1;33m(\u001b[0m\u001b[1;34m\"../../../../text/Wike.txt\"\u001b[0m\u001b[1;33m,\u001b[0m\u001b[1;34m\"x\"\u001b[0m\u001b[1;33m)\u001b[0m\u001b[1;33m\u001b[0m\u001b[1;33m\u001b[0m\u001b[0m\n\u001b[0m\u001b[0;32m      2\u001b[0m \u001b[1;31m#print(python.read())\u001b[0m\u001b[1;33m\u001b[0m\u001b[1;33m\u001b[0m\u001b[1;33m\u001b[0m\u001b[0m\n",
      "\u001b[1;31mFileExistsError\u001b[0m: [Errno 17] File exists: '../../../../text/Wike.txt'"
     ]
    }
   ],
   "source": [
    "python=open(\"../../../../text/Wike.txt\",\"x\")\n",
    "#print(python.read())"
   ]
  },
  {
   "cell_type": "code",
   "execution_count": 59,
   "metadata": {},
   "outputs": [],
   "source": [
    "python=open(\"../../../../text/Wikes.txt\",\"x\")\n",
    "#print(python.read())"
   ]
  },
  {
   "cell_type": "code",
   "execution_count": 65,
   "metadata": {},
   "outputs": [
    {
     "name": "stdout",
     "output_type": "stream",
     "text": [
      "Wike is the Governor of Rivers StateWike is the Governor of Rivers State\n",
      "Wike is the Governor of Rivers State\n",
      "Wike is the Governor of Rivers State\n",
      "Wike is the Governor of Rivers State\n"
     ]
    }
   ],
   "source": [
    "wi=open(\"../../../../text/Wikes.txt\",\"a\")\n",
    "wi.write(\"\\nWike is the Governor of Rivers State\")\n",
    "wi.close()\n",
    "wi=open(\"../../../../text/Wikes.txt\")\n",
    "print(wi.read())"
   ]
  },
  {
   "cell_type": "code",
   "execution_count": 68,
   "metadata": {},
   "outputs": [
    {
     "name": "stdout",
     "output_type": "stream",
     "text": [
      "\n",
      "Wike is the Governor of Rivers State\n"
     ]
    }
   ],
   "source": [
    "wi=open(\"../../../../text/Wikes.txt\",\"w\")\n",
    "wi.write(\"\\nWike is the Governor of Rivers State\")\n",
    "wi.close()\n",
    "wi=open(\"../../../../text/Wikes.txt\")\n",
    "print(wi.read())"
   ]
  },
  {
   "cell_type": "code",
   "execution_count": 69,
   "metadata": {},
   "outputs": [
    {
     "name": "stdout",
     "output_type": "stream",
     "text": [
      "\n",
      "Amaechi is the current Minister of Transportation\n"
     ]
    }
   ],
   "source": [
    "a=open(\"../../../../text/Amaechi.txt\",\"a\")\n",
    "a.write(\"\\nAmaechi is the current Minister of Transportation\")\n",
    "a.close()\n",
    "a=open(\"../../../../text/Amaechi.txt\")\n",
    "print(a.read())"
   ]
  },
  {
   "cell_type": "code",
   "execution_count": 71,
   "metadata": {},
   "outputs": [
    {
     "name": "stdout",
     "output_type": "stream",
     "text": [
      "\n",
      "Amaechi is the current Minister of Transportation\n",
      "Amaechi is the current Minister of Transportation\n",
      "Amaechi is the current Minister of Transportation\n"
     ]
    }
   ],
   "source": [
    "a=open(\"../../../../text/Amaechi.txt\",\"a\")\n",
    "a.write(\"\\nAmaechi is the current Minister of Transportation\")\n",
    "a.close()\n",
    "a=open(\"../../../../text/Amaechi.txt\",\"r\")\n",
    "print(a.read())"
   ]
  },
  {
   "cell_type": "code",
   "execution_count": 72,
   "metadata": {},
   "outputs": [
    {
     "name": "stdout",
     "output_type": "stream",
     "text": [
      "\n",
      "Dakuku lost an election in 2015\n"
     ]
    }
   ],
   "source": [
    "a=open(\"../../../../text/Dakuku.txt\",\"w\")\n",
    "a.write(\"\\nDakuku lost an election in 2015\")\n",
    "a.close()\n",
    "a=open(\"../../../../text/Dakuku.txt\")\n",
    "print(a.read())"
   ]
  },
  {
   "cell_type": "code",
   "execution_count": 73,
   "metadata": {},
   "outputs": [],
   "source": [
    "## go and check how to delete a txt file\n",
    "## study how to check if a file exist in python"
   ]
  },
  {
   "cell_type": "code",
   "execution_count": 78,
   "metadata": {},
   "outputs": [],
   "source": [
    "## read on classes\n",
    "# do exercise 86"
   ]
  }
 ],
 "metadata": {
  "kernelspec": {
   "display_name": "Python 3",
   "language": "python",
   "name": "python3"
  },
  "language_info": {
   "codemirror_mode": {
    "name": "ipython",
    "version": 3
   },
   "file_extension": ".py",
   "mimetype": "text/x-python",
   "name": "python",
   "nbconvert_exporter": "python",
   "pygments_lexer": "ipython3",
   "version": "3.7.3"
  }
 },
 "nbformat": 4,
 "nbformat_minor": 2
}
